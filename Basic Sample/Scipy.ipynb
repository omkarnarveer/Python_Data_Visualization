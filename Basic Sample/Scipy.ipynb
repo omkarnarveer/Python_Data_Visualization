{
 "cells": [
  {
   "cell_type": "markdown",
   "id": "15d0643a",
   "metadata": {},
   "source": [
    "# Write a Program to demonstrate Density plot"
   ]
  },
  {
   "cell_type": "code",
   "execution_count": 4,
   "id": "7feee19b",
   "metadata": {},
   "outputs": [
    {
     "data": {
      "image/png": "[encoded data removed]",
      "text/plain": [
       "<Figure size 432x288 with 1 Axes>"
      ]
     },
     "metadata": {
      "needs_background": "light"
     },
     "output_type": "display_data"
    }
   ],
   "source": [
    "# Density Plot\n",
    "import numpy as np\n",
    "import matplotlib.pyplot as plt\n",
    "from scipy.stats import kde\n",
    "\n",
    "data = [2,3,3,4,2,1,5,6,4,3,3,3,6,4,5,4,3,2]\n",
    "density = kde.gaussian_kde(data)\n",
    "x = np.linspace(-2,10,300)\n",
    "y=density(x)\n",
    "plt.plot(x,y)\n",
    "plt.title(\"Density Plot of the data\")\n",
    "plt.show()"
   ]
  },
  {
   "cell_type": "markdown",
   "id": "a418a61f",
   "metadata": {},
   "source": []
  },
  {
   "cell_type": "markdown",
   "id": "09a9d79c",
   "metadata": {},
   "source": [
    "# Write a program to demonstrate  trignometic functions"
   ]
  },
  {
   "cell_type": "code",
   "execution_count": 5,
   "id": "ce6fdea6",
   "metadata": {},
   "outputs": [
    {
     "name": "stdout",
     "output_type": "stream",
     "text": [
      "a= 1000.0\n",
      "b= 8.0\n",
      "c= 1.0\n",
      "d= 1.0\n"
     ]
    }
   ],
   "source": [
    "#importing library\n",
    "from scipy import special\n",
    "a = special.exp10(3)\n",
    "print('a=',a)\n",
    " \n",
    "b = special.exp2(3)\n",
    "print('b=',b)\n",
    " \n",
    "c = special.sindg(90)\n",
    "print('c=',c)\n",
    " \n",
    "d = special.cosdg(0)\n",
    "print('d=',d)"
   ]
  },
  {
   "cell_type": "markdown",
   "id": "6cc47728",
   "metadata": {},
   "source": [
    "# Write a program to find determinant of square marix"
   ]
  },
  {
   "cell_type": "code",
   "execution_count": 6,
   "id": "b93419d0",
   "metadata": {},
   "outputs": [
    {
     "name": "stdout",
     "output_type": "stream",
     "text": [
      "Determinant of \n",
      "[[1 2 9]\n",
      " [3 4 8]\n",
      " [7 8 4]] \n",
      " is 3.999999999999986\n"
     ]
    }
   ],
   "source": [
    "#importing the scipy and numpy packages\n",
    "from scipy import linalg\n",
    "import numpy as np\n",
    "  \n",
    "#Declaring the numpy array\n",
    "A = np.array([[1,2,9],[3,4,8],[7,8,4]])\n",
    "#Passing the values to the det function\n",
    "x = linalg.det(A)\n",
    "  \n",
    "#printing the result\n",
    "print('Determinant of \\n{} \\n is {}'.format(A,x))"
   ]
  },
  {
   "cell_type": "markdown",
   "id": "2142aa89",
   "metadata": {},
   "source": [
    "# Write a program to find eigen values of matrix"
   ]
  },
  {
   "cell_type": "code",
   "execution_count": 7,
   "id": "8cd51ef6",
   "metadata": {},
   "outputs": [
    {
     "name": "stdout",
     "output_type": "stream",
     "text": [
      "[-1.+0.j  2.+0.j  1.+0.j]\n",
      "[[-0.57735027 -0.87287156  0.57735027]\n",
      " [ 0.57735027 -0.43643578  0.57735027]\n",
      " [-0.57735027 -0.21821789  0.57735027]]\n"
     ]
    }
   ],
   "source": [
    "#importing the scipy and numpy packages\n",
    "from scipy import linalg\n",
    "import numpy as np\n",
    "  \n",
    "#Declaring the numpy array\n",
    "A = np.array([[2,1,-2],[1,0,0],[0,1,0]])\n",
    "  \n",
    "#Passing the values to the eig function\n",
    "values, vectors = linalg.eig(A)\n",
    "  \n",
    "#printing the result for eigenvalues\n",
    "print(values)\n",
    "  \n",
    "#printing the result for eigenvectors\n",
    "print(vectors)"
   ]
  },
  {
   "cell_type": "markdown",
   "id": "4387738b",
   "metadata": {},
   "source": [
    "# Give an example of 1-D interpolation"
   ]
  },
  {
   "cell_type": "code",
   "execution_count": 8,
   "id": "a6e8cd4f",
   "metadata": {},
   "outputs": [
    {
     "data": {
      "image/png": "[encoded data removed]",
      "text/plain": [
       "<Figure size 432x288 with 1 Axes>"
      ]
     },
     "metadata": {
      "needs_background": "light"
     },
     "output_type": "display_data"
    }
   ],
   "source": [
    "import numpy as np  \n",
    "from scipy import interpolate  \n",
    "import matplotlib.pyplot as plt  \n",
    "x = np.linspace(0, 5, 10)  \n",
    "y = np.sin(x**2/3+4) \n",
    "plt.scatter(x,y,c='b')  \n",
    "plt.show()"
   ]
  },
  {
   "cell_type": "markdown",
   "id": "85d5c807",
   "metadata": {},
   "source": [
    "# Write a program to find eigen values and vectors of matrix"
   ]
  },
  {
   "cell_type": "code",
   "execution_count": 9,
   "id": "69cee140",
   "metadata": {},
   "outputs": [
    {
     "name": "stdout",
     "output_type": "stream",
     "text": [
      "[-1.+0.j  2.+0.j  1.+0.j]\n",
      "[[-0.57735027 -0.87287156  0.57735027]\n",
      " [ 0.57735027 -0.43643578  0.57735027]\n",
      " [-0.57735027 -0.21821789  0.57735027]]\n"
     ]
    }
   ],
   "source": [
    "#importing the scipy and numpy packages\n",
    "from scipy import linalg\n",
    "import numpy as np\n",
    "  \n",
    "#Declaring the numpy array\n",
    "A = np.array([[2,1,-2],[1,0,0],[0,1,0]])\n",
    "  \n",
    "#Passing the values to the eig function\n",
    "values, vectors = linalg.eig(A)\n",
    "  \n",
    "#printing the result for eigenvalues\n",
    "print(values)\n",
    "  \n",
    "#printing the result for eigenvectors\n",
    "print(vectors)"
   ]
  },
  {
   "cell_type": "markdown",
   "id": "cb8e69c2",
   "metadata": {},
   "source": [
    "# Write a program to calculate integral"
   ]
  },
  {
   "cell_type": "code",
   "execution_count": 13,
   "id": "0ef9ee5c",
   "metadata": {},
   "outputs": [
    {
     "name": "stdout",
     "output_type": "stream",
     "text": [
      "(0.7468241328124271, 8.291413475940725e-15)\n"
     ]
    }
   ],
   "source": [
    "import scipy\n",
    "from numpy import exp  \n",
    "f= lambda x:exp(-x**2)  \n",
    "i = scipy.integrate.quad(f, 0, 1)  \n",
    "print(i)"
   ]
  },
  {
   "cell_type": "markdown",
   "id": "e7f8a489",
   "metadata": {},
   "source": [
    "# Write a program to find values of trignometric angels"
   ]
  },
  {
   "cell_type": "code",
   "execution_count": 23,
   "id": "0404c1d3",
   "metadata": {},
   "outputs": [
    {
     "name": "stdout",
     "output_type": "stream",
     "text": [
      "a= 0.49999999999999994\n",
      "b= 0.7071067811865475\n",
      "c= inf\n",
      "d= 0.5773502691896257\n"
     ]
    }
   ],
   "source": [
    "#importing library\n",
    "from scipy import special\n",
    "a = special.sindg(30)\n",
    "print('a=',a)\n",
    " \n",
    "b = special.cosdg(45)\n",
    "print('b=',b)\n",
    " \n",
    "c = special.tandg(90)\n",
    "print('c=',c)\n",
    " \n",
    "d = special.cotdg(60)\n",
    "print('d=',d)"
   ]
  }
 ],
 "metadata": {
  "kernelspec": {
   "display_name": "Python 3",
   "language": "python",
   "name": "python3"
  },
  "language_info": {
   "codemirror_mode": {
    "name": "ipython",
    "version": 3
   },
   "file_extension": ".py",
   "mimetype": "text/x-python",
   "name": "python",
   "nbconvert_exporter": "python",
   "pygments_lexer": "ipython3",
   "version": "3.8.8"
  }
 },
 "nbformat": 4,
 "nbformat_minor": 5
}
