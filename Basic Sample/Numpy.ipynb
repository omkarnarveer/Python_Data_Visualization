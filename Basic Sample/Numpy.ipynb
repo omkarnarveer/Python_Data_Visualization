{
 "cells": [
  {
   "cell_type": "code",
   "execution_count": 33,
   "id": "69730338",
   "metadata": {},
   "outputs": [],
   "source": [
    "#importing Numpy Library\n",
    "import numpy as np"
   ]
  },
  {
   "cell_type": "markdown",
   "id": "2b1084f8",
   "metadata": {},
   "source": [
    "# 1st Program to Create an array and print its elements"
   ]
  },
  {
   "cell_type": "code",
   "execution_count": 34,
   "id": "16790f40",
   "metadata": {},
   "outputs": [
    {
     "name": "stdout",
     "output_type": "stream",
     "text": [
      "[1 2 3 4]\n"
     ]
    }
   ],
   "source": [
    "array=np.array([1,2,3,4])\n",
    "print(array)"
   ]
  },
  {
   "cell_type": "code",
   "execution_count": 35,
   "id": "dde86f9b",
   "metadata": {},
   "outputs": [
    {
     "name": "stdout",
     "output_type": "stream",
     "text": [
      "[[ 1  2  3  4]\n",
      " [ 5  6  7  8]\n",
      " [ 9 10 11 12]]\n"
     ]
    }
   ],
   "source": [
    "array = np.array([[1, 2, 3, 4], [5, 6, 7, 8], [9, 10, 11, 12]])\n",
    "print(array)"
   ]
  },
  {
   "cell_type": "markdown",
   "id": "eb0d9d42",
   "metadata": {},
   "source": [
    "# 2nd Program: Create array and print its Shape"
   ]
  },
  {
   "cell_type": "code",
   "execution_count": 36,
   "id": "4e323aa4",
   "metadata": {},
   "outputs": [
    {
     "name": "stdout",
     "output_type": "stream",
     "text": [
      "(2, 4)\n"
     ]
    }
   ],
   "source": [
    "array = np.array([[1, 2, 3, 4], [5, 6, 7, 8]])\n",
    "\n",
    "print(array.shape)"
   ]
  },
  {
   "cell_type": "markdown",
   "id": "92766352",
   "metadata": {},
   "source": [
    "# 3rd Program to print reverse elements of array"
   ]
  },
  {
   "cell_type": "code",
   "execution_count": 37,
   "id": "bf6769d1",
   "metadata": {},
   "outputs": [
    {
     "name": "stdout",
     "output_type": "stream",
     "text": [
      "[7 6 5 4 3 2 1]\n"
     ]
    }
   ],
   "source": [
    "array= np.array([1, 2, 3, 4, 5, 6, 7])\n",
    "\n",
    "print(array[::-1])"
   ]
  },
  {
   "cell_type": "markdown",
   "id": "44b70157",
   "metadata": {},
   "source": [
    "# 4th Program to Create an array and resize it"
   ]
  },
  {
   "cell_type": "code",
   "execution_count": 38,
   "id": "4298ff62",
   "metadata": {},
   "outputs": [
    {
     "name": "stdout",
     "output_type": "stream",
     "text": [
      "[[ 0  2  4  6  8]\n",
      " [10 12 14 16 18]\n",
      " [20 22 24 26 28]\n",
      " [30 32 34 36 38]\n",
      " [40 42 44 46 48]]\n"
     ]
    }
   ],
   "source": [
    "array=np.arange(0,50,2).reshape(5,5)\n",
    "print(array)"
   ]
  },
  {
   "cell_type": "markdown",
   "id": "4ae6b8e2",
   "metadata": {},
   "source": [
    "# 5th program to Sort array in ascending order "
   ]
  },
  {
   "cell_type": "code",
   "execution_count": 24,
   "id": "6344d351",
   "metadata": {},
   "outputs": [
    {
     "name": "stdout",
     "output_type": "stream",
     "text": [
      "[ 1  4  6  7  9 12 15 23 51]\n"
     ]
    }
   ],
   "source": [
    "array = np.array([12, 51, 6, 9, 1, 15, 23, 4, 7])\n",
    "\n",
    "print(np.sort(array)) "
   ]
  },
  {
   "cell_type": "markdown",
   "id": "6b9a8740",
   "metadata": {},
   "source": [
    "# 6th program to demostrate CSR Marix"
   ]
  },
  {
   "cell_type": "code",
   "execution_count": 1,
   "id": "5c232f48",
   "metadata": {},
   "outputs": [
    {
     "name": "stdout",
     "output_type": "stream",
     "text": [
      "(array([[0., 1., 2.],\n",
      "       [1., 0., 3.],\n",
      "       [2., 3., 0.]]), array([[-9999,     0,     0],\n",
      "       [    1, -9999,     0],\n",
      "       [    2,     0, -9999]]))\n"
     ]
    }
   ],
   "source": [
    "import numpy as np\n",
    "from scipy.sparse.csgraph import floyd_warshall\n",
    "from scipy.sparse import csr_matrix\n",
    "\n",
    "arr = np.array([\n",
    "  [0, 1, 2],\n",
    "  [1, 0, 0],\n",
    "  [2, 0, 0]\n",
    "])\n",
    "\n",
    "newarr = csr_matrix(arr)\n",
    "\n",
    "print(floyd_warshall(newarr, return_predecessors=True))"
   ]
  },
  {
   "cell_type": "markdown",
   "id": "e2891700",
   "metadata": {},
   "source": [
    "# 7th Write a Program to Find the shortest path between all pairs of elements"
   ]
  },
  {
   "cell_type": "code",
   "execution_count": 4,
   "id": "b5b793e7",
   "metadata": {},
   "outputs": [
    {
     "name": "stdout",
     "output_type": "stream",
     "text": [
      "(array([[0., 1., 2.],\n",
      "       [1., 0., 3.],\n",
      "       [2., 3., 0.]]), array([[-9999,     0,     0],\n",
      "       [    1, -9999,     0],\n",
      "       [    2,     0, -9999]]))\n"
     ]
    }
   ],
   "source": [
    "import numpy as np\n",
    "from scipy.sparse.csgraph import floyd_warshall\n",
    "from scipy.sparse import csr_matrix\n",
    "\n",
    "arr = np.array([\n",
    "  [0, 1, 2],\n",
    "  [1, 0, 0],\n",
    "  [2, 0, 0]\n",
    "])\n",
    "\n",
    "newarr = csr_matrix(arr)\n",
    "\n",
    "print(floyd_warshall(newarr, return_predecessors=True))"
   ]
  },
  {
   "cell_type": "markdown",
   "id": "6d59d4de",
   "metadata": {},
   "source": [
    "# 8th Write a Program to Traverse the graph breadth first for given adjacency matrix"
   ]
  },
  {
   "cell_type": "code",
   "execution_count": 3,
   "id": "fb6ae27f",
   "metadata": {},
   "outputs": [
    {
     "name": "stdout",
     "output_type": "stream",
     "text": [
      "(array([1, 0, 2, 3]), array([    1, -9999,     1,     1]))\n"
     ]
    }
   ],
   "source": [
    "import numpy as np\n",
    "from scipy.sparse.csgraph import breadth_first_order\n",
    "from scipy.sparse import csr_matrix\n",
    "\n",
    "arr = np.array([\n",
    "  [0, 1, 0, 1],\n",
    "  [1, 1, 1, 1],\n",
    "  [2, 1, 1, 0],\n",
    "  [0, 1, 0, 1]\n",
    "])\n",
    "\n",
    "newarr = csr_matrix(arr)\n",
    "\n",
    "print(breadth_first_order(newarr, 1)) "
   ]
  }
 ],
 "metadata": {
  "kernelspec": {
   "display_name": "Python 3",
   "language": "python",
   "name": "python3"
  },
  "language_info": {
   "codemirror_mode": {
    "name": "ipython",
    "version": 3
   },
   "file_extension": ".py",
   "mimetype": "text/x-python",
   "name": "python",
   "nbconvert_exporter": "python",
   "pygments_lexer": "ipython3",
   "version": "3.8.8"
  }
 },
 "nbformat": 4,
 "nbformat_minor": 5
}
